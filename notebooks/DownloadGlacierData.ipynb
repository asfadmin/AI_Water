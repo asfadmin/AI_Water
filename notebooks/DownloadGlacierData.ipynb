{
 "cells": [
  {
   "cell_type": "code",
   "execution_count": null,
   "metadata": {},
   "outputs": [],
   "source": [
    "!wget --load-cookies /tmp/cookies.txt \"https://docs.google.com/uc?export=download&confirm=$(wget --quiet --save-cookies /tmp/cookies.txt --keep-session-cookies --no-check-certificate 'https://docs.google.com/uc?export=download&id=1RSR1I8H-vd3HkxJmPIXZRGXwpRzLX1uT' -O- | sed -rn 's/.*confirm=([0-9A-Za-z_]+).*/\\1\\n/p')&id=1RSR1I8H-vd3HkxJmPIXZRGXwpRzLX1uT\" -O models.zip && rm -rf /tmp/cookies.txt\n",
    "!unzip -o glacier_C_database.zip"
   ]
  }
 ],
 "metadata": {
  "language_info": {
   "name": "python"
  }
 },
 "nbformat": 4,
 "nbformat_minor": 2
}
