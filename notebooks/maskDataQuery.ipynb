{
 "cells": [
  {
   "cell_type": "code",
   "execution_count": 219,
   "metadata": {
    "scrolled": true
   },
   "outputs": [],
   "source": [
    "import requests\n",
    "import os\n",
    "import re\n",
    "import json\n",
    "import dataclasses as dc\n",
    "from dataclasses import field, asdict\n",
    "from pprint import pprint\n",
    "from shapely import wkt\n",
    "from shapely.geometry import Polygon\n",
    "from datetime import datetime, date, timezone\n",
    "from pathlib import Path\n",
    "from tempfile import TemporaryDirectory\n",
    "\n"
   ]
  },
  {
   "cell_type": "markdown",
   "metadata": {},
   "source": [
    "## GLOBALS"
   ]
  },
  {
   "cell_type": "code",
   "execution_count": null,
   "metadata": {},
   "outputs": [],
   "source": [
    "CMR_URL = 'https://cmr.earthdata.nasa.gov/search/granules.json'\n",
    "\n"
   ]
  },
  {
   "cell_type": "markdown",
   "metadata": {},
   "source": [
    "## Product Class"
   ]
  },
  {
   "cell_type": "code",
   "execution_count": 191,
   "metadata": {},
   "outputs": [],
   "source": [
    "@dc.dataclass()\n",
    "class Product:\n",
    "    name: str\n",
    "    shape: Polygon = None\n",
    "    start: datetime = None\n",
    "    end: datetime = None\n",
    "        \n",
    "    def __post_init__(self):\n",
    "        self.product_time_regex = re.compile(\n",
    "                r\"S.*1SDV_(?P<start_year>\\d{4})(?P<start_month>\\d{2})(?P<start_day>\\d{2})T(?P<start_hour>\\d{2})(\"\n",
    "                r\"?P<start_minute>\\d{2})(?P<start_second>\\d{2})_(?P<end_year>\\d{4})(?P<end_month>\\d{2})(?P<end_day>\\d{2})T(\"\n",
    "                r\"?P<end_hour>\\d{2})(?P<end_minute>\\d{2})(?P<end_second>\\d{2})_*\")\n",
    "#         self.start = make_start(name)\n",
    "#         self.end = make_end(name)\n",
    "        self.start = self.make_start(self.name)\n",
    "        self.end = self.make_end(self.name)\n",
    "        \n",
    "        \n",
    "\n",
    "        \n",
    "    def make_start(self,product_name) -> datetime:\n",
    "        \n",
    "        regex_match = re.match(self.product_time_regex, product_name)\n",
    "        time_dict = regex_match.groupdict()\n",
    "        for k, v in time_dict.items():\n",
    "            time_dict[k] = int(v)\n",
    "\n",
    "        return datetime(time_dict[\"start_year\"], time_dict[\"start_month\"], time_dict[\"start_day\"],\n",
    "                        time_dict[\"start_hour\"], time_dict[\"start_minute\"], time_dict[\"start_second\"])\n",
    "\n",
    "\n",
    "\n",
    "    def make_end(self, product_name) -> datetime:\n",
    "\n",
    "        regex_match = re.match(self.product_time_regex, product_name)\n",
    "        time_dict = regex_match.groupdict()\n",
    "        for k, v in time_dict.items():\n",
    "            time_dict[k] = int(v)\n",
    "\n",
    "        return datetime(time_dict[\"end_year\"], time_dict[\"end_month\"], time_dict[\"end_day\"],\n",
    "                        time_dict[\"end_hour\"], time_dict[\"end_minute\"], time_dict[\"end_second\"])\n",
    "    \n",
    "    \n",
    "    def to_json(self):\n",
    "        metadata = asdict(self)\n",
    "        metadata['start'] = self.start.isoformat()\n",
    "        metadata['end'] = self.end.isoformat()\n",
    "        metadata['shape'] = str(self.shape)\n",
    "        \n",
    "#         for key in list(metadata):\n",
    "#             if key is datetime:\n",
    "#                 metadata[key] = metadata[key].isoformat()\n",
    "#                 print(f\"TEST: {key}= {metadata[key]}\")\n",
    "        return json.dumps(metadata)\n",
    "        \n",
    "        \n",
    "    "
   ]
  },
  {
   "cell_type": "markdown",
   "metadata": {},
   "source": [
    "### Polygon_to_point_str"
   ]
  },
  {
   "cell_type": "code",
   "execution_count": 117,
   "metadata": {},
   "outputs": [
    {
     "name": "stdout",
     "output_type": "stream",
     "text": [
      "-148.2421,63.9554,-146.4533,63.9554,-146.4533,64.9447,-148.2421,64.9447,-148.2421,63.9554\n"
     ]
    }
   ],
   "source": [
    "\n",
    "def polygon_to_point_str(poly: Polygon) -> str:\n",
    "    \"\"\"Input Polygon. Returns a CMR compatible point string \"\"\"\n",
    "    coord_lst = [coord for coord in list(poly.exterior.coords)]\n",
    "    pt_lst = []\n",
    "    for coord in coord_lst:\n",
    "        for pt in coord:\n",
    "            pt_lst.append(pt)\n",
    "            \n",
    "    listToStr = ','.join(map(str, pt_lst))\n",
    "    return listToStr\n",
    "    "
   ]
  },
  {
   "cell_type": "markdown",
   "metadata": {},
   "source": [
    "#### TEST: polygon_to_point_str"
   ]
  },
  {
   "cell_type": "code",
   "execution_count": 121,
   "metadata": {},
   "outputs": [
    {
     "name": "stdout",
     "output_type": "stream",
     "text": [
      "-148.2421,63.9554,-146.4533,63.9554,-146.4533,64.9447,-148.2421,64.9447,-148.2421,63.9554\n"
     ]
    }
   ],
   "source": [
    "# Test polygon_to_point_str\n",
    "test_ptps_wkt = \"POLYGON((-148.2421 63.9554,-146.4533 63.9554,-146.4533 64.9447,-148.2421 64.9447,-148.2421 63.9554))\"\n",
    "test_ptps_poly= wkt.loads(test_wkt)\n",
    "test_ptps_point_str = \"-148.2421,63.9554,-146.4533,63.9554,-146.4533,64.9447,-148.2421,64.9447,-148.2421,63.9554\"\n",
    "\n",
    "\n",
    "assert polygon_to_point_str(test_ptps_poly)==expected_point_str\n",
    "print(polygon_to_point_str(test_ptps_poly))"
   ]
  },
  {
   "cell_type": "markdown",
   "metadata": {},
   "source": [
    "### product_time"
   ]
  },
  {
   "cell_type": "code",
   "execution_count": 110,
   "metadata": {},
   "outputs": [],
   "source": [
    "def product_time(product_name):\n",
    "    product_time_regex = re.compile(\n",
    "        r\"S.*1SDV_(?P<start_year>\\d{4})(?P<start_month>\\d{2})(?P<start_day>\\d{2})T(?P<start_hour>\\d{2})(\"\n",
    "        r\"?P<start_minute>\\d{2})(?P<start_second>\\d{2})_(?P<end_year>\\d{4})(?P<end_month>\\d{2})(?P<end_day>\\d{2})T(\"\n",
    "        r\"?P<end_hour>\\d{2})(?P<end_minute>\\d{2})(?P<end_second>\\d{2})_*\")\n",
    "\n",
    "    regex_match = re.match(product_time_regex, product_name)\n",
    "    time_dict = regex_match.groupdict()\n",
    "\n",
    "    # converts all dates/times values in dictionary from int to string\n",
    "    for k, v in time_dict.items():\n",
    "        time_dict[k] = int(v)\n",
    "\n",
    "    start = datetime(time_dict[\"start_year\"], time_dict[\"start_month\"], time_dict[\"start_day\"],\n",
    "                     time_dict[\"start_hour\"], time_dict[\"start_minute\"], time_dict[\"start_second\"])\n",
    "\n",
    "    end = datetime(time_dict[\"end_year\"], time_dict[\"end_month\"], time_dict[\"end_day\"],\n",
    "                   time_dict[\"end_hour\"], time_dict[\"end_minute\"], time_dict[\"end_second\"])\n",
    "\n",
    "\n",
    "    return start, end"
   ]
  },
  {
   "cell_type": "markdown",
   "metadata": {},
   "source": [
    "### product_in_time_bounds"
   ]
  },
  {
   "cell_type": "code",
   "execution_count": 111,
   "metadata": {},
   "outputs": [],
   "source": [
    "def product_in_time_bounds(product_name, start, end):\n",
    "    prod_start, prod_end = product_time(product_name)\n",
    "    \n",
    "    return prod_start > start and prod_end < end\n",
    "    "
   ]
  },
  {
   "cell_type": "code",
   "execution_count": 12,
   "metadata": {},
   "outputs": [],
   "source": [
    "def format_time(time: datetime):\n",
    "#     utc_time = time.astimezone(timezone.utc)\n",
    "#     return utc_time.isoformat(timespec='seconds')\n",
    "    return time.isoformat()"
   ]
  },
  {
   "cell_type": "code",
   "execution_count": 223,
   "metadata": {},
   "outputs": [
    {
     "name": "stdout",
     "output_type": "stream",
     "text": [
      "2020-08-01T00:00:00\n"
     ]
    }
   ],
   "source": [
    "test_date = datetime(2020,8,1,0,0,0)\n",
    "print(format_time(test_date))"
   ]
  },
  {
   "cell_type": "markdown",
   "metadata": {},
   "source": [
    "### get_cmr_metadata"
   ]
  },
  {
   "cell_type": "code",
   "execution_count": 161,
   "metadata": {},
   "outputs": [],
   "source": [
    "def get_cmr_metadata(shape:Polygon, start: datetime, end: datetime):\n",
    "    \n",
    "    payload = {}\n",
    "    payload['provider'] = 'ASF'\n",
    "    payload['temporal'] = (start.isoformat(), end.isoformat())\n",
    "    payload['polygon'] = polygon_to_point_str(shape)\n",
    "    payload['short_name'] = (\n",
    "            'SENTINEL-1A_DP_GRD_HIGH',\n",
    "            'SENTINEL-1B_DP_GRD_HIGH',\n",
    "            )\n",
    "    payload['page_size'] = 100\n",
    "\n",
    "\n",
    "    response = requests.post(CMR_URL, data=payload)\n",
    "#     print(response.json)\n",
    "    products = [\n",
    "            entry['producer_granule_id'] for entry in response.json()['feed']['entry'] if product_in_time_bounds(entry['producer_granule_id'], start, end)\n",
    "    ]\n",
    "    return products\n",
    "    granules = [\n",
    "        {\n",
    "            'name': entry['producer_granule_id'],\n",
    "#             'polygon': Polygon(format_points(entry['polygons'][0][0]))\n",
    "        } for entry in response.json()['feed']['entry']\n",
    "    ]\n",
    "    response.raise_for_status()\n",
    "    return granules"
   ]
  },
  {
   "cell_type": "markdown",
   "metadata": {},
   "source": [
    "## TEST: get_cmr_metadata"
   ]
  },
  {
   "cell_type": "code",
   "execution_count": 114,
   "metadata": {},
   "outputs": [
    {
     "name": "stdout",
     "output_type": "stream",
     "text": [
      "['S1A_IW_GRDH_1SDV_20200807T162818_20200807T162843_033803_03EB45_A6DF',\n",
      " 'S1A_IW_GRDH_1SDV_20200807T162843_20200807T162908_033803_03EB45_30A8']\n"
     ]
    }
   ],
   "source": [
    "test_wkt   = \"POLYGON((-148.1418 64.6321,-147.4753 64.6321,-147.4753 64.9466,-148.1418 64.9466,-148.1418 64.6321))\"\n",
    "test_poly  = wkt.loads(test_wkt)\n",
    "test_start = datetime(year=2020,month=8,day=1,hour=0,minute=0,second=0)\n",
    "test_end   = datetime(year=2020,month=8,day=8,hour=0,minute=0,second=0)\n",
    "\n",
    "test_products = get_cmr_metadata(test_poly, test_start, test_end)\n",
    "\n",
    "pprint(test_products)\n",
    "\n",
    "\n"
   ]
  },
  {
   "cell_type": "markdown",
   "metadata": {},
   "source": [
    "### EnhancedJSONEncoder"
   ]
  },
  {
   "cell_type": "code",
   "execution_count": 148,
   "metadata": {},
   "outputs": [],
   "source": [
    "class EnhancedJSONEncoder(json.JSONEncoder):\n",
    "    def default(self, o):\n",
    "        if dc.is_dataclass(o):\n",
    "            return dc.asdict(o)\n",
    "        return super().default(o)"
   ]
  },
  {
   "cell_type": "markdown",
   "metadata": {},
   "source": [
    "## get_products_cmr"
   ]
  },
  {
   "cell_type": "code",
   "execution_count": 194,
   "metadata": {},
   "outputs": [],
   "source": [
    "\n",
    "# TODO: Get initial queary to return products of proper datetime\n",
    "def get_products_cmr(shape:Polygon, start: datetime, end: datetime):\n",
    "    \n",
    "    payload = {}\n",
    "    payload['provider'] = 'ASF'\n",
    "    payload['temporal'] = (start.isoformat(), end.isoformat())\n",
    "    payload['polygon'] = polygon_to_point_str(shape)\n",
    "    payload['short_name'] = (\n",
    "            'SENTINEL-1A_DP_GRD_HIGH',\n",
    "            'SENTINEL-1B_DP_GRD_HIGH',\n",
    "            )\n",
    "    payload['page_size'] = 100\n",
    "\n",
    "    response = requests.post(CMR_URL, data=payload)\n",
    "#     pprint(response.json())\n",
    "\n",
    "    products = []\n",
    "    for entry in response.json()['feed']['entry']:\n",
    "        if product_in_time_bounds(entry['producer_granule_id'], start, end):\n",
    "            products.append(Product(\n",
    "                                    name = entry['producer_granule_id'],\n",
    "                                    shape = Polygon(format_points(entry['polygons'][0][0]))\n",
    "                                   ))\n",
    "\n",
    "    return products\n"
   ]
  },
  {
   "cell_type": "markdown",
   "metadata": {},
   "source": [
    "### TEST: get_products_cmr"
   ]
  },
  {
   "cell_type": "code",
   "execution_count": 195,
   "metadata": {
    "scrolled": true
   },
   "outputs": [
    {
     "name": "stdout",
     "output_type": "stream",
     "text": [
      "{\"name\": \"S1A_IW_GRDH_1SDV_20200807T162818_20200807T162843_033803_03EB45_A6DF\", \"shape\": \"POLYGON ((-147.250381 64.64534, -146.353043 66.116508, -151.962357 66.58766199999999, -152.556412 65.101822, -147.250381 64.64534))\", \"start\": \"2020-08-07T16:28:18\", \"end\": \"2020-08-07T16:28:43\"}\n",
      "{\"name\": \"S1A_IW_GRDH_1SDV_20200807T162843_20200807T162908_033803_03EB45_30A8\", \"shape\": \"POLYGON ((-148.107025 63.174152, -147.250427 64.645256, -152.554779 65.101624, -153.141724 63.616859, -148.107025 63.174152))\", \"start\": \"2020-08-07T16:28:43\", \"end\": \"2020-08-07T16:29:08\"}\n",
      "{\"name\": \"S1B_IW_GRDH_1SDV_20200809T033631_20200809T033656_022841_02B5B0_6CD7\", \"shape\": \"POLYGON ((-153.305618 63.814056, -152.50769 62.338947, -147.640671 62.773293, -148.187286 64.26004, -153.305618 63.814056))\", \"start\": \"2020-08-09T03:36:31\", \"end\": \"2020-08-09T03:36:56\"}\n",
      "{\"name\": \"S1B_IW_GRDH_1SDV_20200809T033656_20200809T033721_022841_02B5B0_147A\", \"shape\": \"POLYGON ((-154.149109 65.28845200000001, -153.305679 63.814144, -148.185486 64.260254, -148.746719 65.74745900000001, -154.149109 65.28845200000001))\", \"start\": \"2020-08-09T03:36:56\", \"end\": \"2020-08-09T03:37:21\"}\n",
      "{\"name\": \"S1A_IW_GRDH_1SDV_20200809T161156_20200809T161221_033832_03EC40_9A21\", \"shape\": \"POLYGON ((-143.374802 64.30976099999999, -142.475571 65.779594, -147.98317 66.24443100000001, -148.589005 64.759766, -143.374802 64.30976099999999))\", \"start\": \"2020-08-09T16:11:56\", \"end\": \"2020-08-09T16:12:21\"}\n",
      "{\"name\": \"S1A_IW_GRDH_1SDV_20200809T161221_20200809T161246_033832_03EC40_F635\", \"shape\": \"POLYGON ((-144.179428 62.834026, -143.374863 64.309669, -148.587158 64.759552, -149.130157 63.272141, -144.179428 62.834026))\", \"start\": \"2020-08-09T16:12:21\", \"end\": \"2020-08-09T16:12:46\"}\n",
      "{\"name\": \"S1B_IW_GRDH_1SDV_20200811T032006_20200811T032031_022870_02B695_B919\", \"shape\": \"POLYGON ((-149.282196 63.992645, -148.47467 62.51812, -143.579681 62.95327, -144.132401 64.439751, -149.282196 63.992645))\", \"start\": \"2020-08-11T03:20:06\", \"end\": \"2020-08-11T03:20:31\"}\n",
      "{\"name\": \"S1B_IW_GRDH_1SDV_20200811T032031_20200811T032056_022870_02B695_52D8\", \"shape\": \"POLYGON ((-150.147675 65.465256, -149.282257 63.992733, -144.1306 64.439964, -144.709641 65.926163, -150.147675 65.465256))\", \"start\": \"2020-08-11T03:20:31\", \"end\": \"2020-08-11T03:20:56\"}\n"
     ]
    }
   ],
   "source": [
    "test_gpc_wkt   = \"POLYGON((-148.1418 64.6321,-147.4753 64.6321,-147.4753 64.9466,-148.1418 64.9466,-148.1418 64.6321))\"\n",
    "test_gpc_poly  = wkt.loads(test_wkt)\n",
    "test_gpc_start = datetime(year=2020,month=8,day=1,hour=0,minute=0,second=0)\n",
    "test_gpc_end   = datetime(year=2020,month=8,day=15,hour=0,minute=0,second=0)\n",
    "\n",
    "test_gpc_products = get_products_cmr(test_gpc_poly, test_gpc_start, test_gpc_end)\n",
    "\n",
    "\n",
    "for product in test_gpc_products:\n",
    "    print(product.to_json())\n"
   ]
  },
  {
   "cell_type": "code",
   "execution_count": 210,
   "metadata": {},
   "outputs": [],
   "source": [
    "\n",
    "\n",
    "def create_directories(root_path: Path) -> None:\n",
    "    \"\"\"Creates the directories for storing our data\"\"\"\n",
    "    \n",
    "    PROJECT_ROOT = root_path.resolve().parents[1]\n",
    "    \n",
    "    # Path configurations for data directory\n",
    "    DATA_DIR = PROJECT_ROOT / \"data\"\n",
    "\n",
    "    GRANULES_DIR    = DATA_DIR / \"granules\"\n",
    "    TILES_DIR       = DATA_DIR / \"tiles\"\n",
    "    SHAPEFILE_DIR   = DATA_DIR / \"shape_files\"\n",
    "    WATER_MASKS_DIR = DATA_DIR / \"water_masks\"\n",
    "    \n",
    "    \n",
    "    directories = [GRANULES_DIR, SHAPEFILE_DIR, TILES_DIR, WATER_MASKS_DIR]\n",
    "    for directory in directories:\n",
    "        directory.mkdir(parents=True)"
   ]
  },
  {
   "cell_type": "code",
   "execution_count": 223,
   "metadata": {},
   "outputs": [
    {
     "name": "stdout",
     "output_type": "stream",
     "text": [
      "Temp dirs created: ['shape_files', 'granules', 'tiles', 'water_masks']\n"
     ]
    }
   ],
   "source": [
    "# with TemporaryDirectory() as tmpdir_name:\n",
    "#     tmpdir_path = Path(tmpdir_name)\n",
    "#     create_directories(tmpdir_path)\n",
    "#     print(os.listdir(f\"{str(tmpdir_path)}\"))\n",
    "    \n",
    "    \n",
    "with TemporaryDirectory() as tmpdir_name:\n",
    "    \n",
    "    tmpdir_path = Path(tmpdir_name)\n",
    "    \n",
    "    TILES_DIR       = tmpdir_path / \"tiles/\"\n",
    "    GRANULES_DIR    = tmpdir_path / \"granules\"\n",
    "    SHAPEFILE_DIR   = tmpdir_path / \"shape_files\"\n",
    "    WATER_MASKS_DIR = tmpdir_path / \"water_masks\"\n",
    "    \n",
    "    directories = [GRANULES_DIR, SHAPEFILE_DIR, TILES_DIR, WATER_MASKS_DIR]\n",
    "    for directory in directories:\n",
    "        directory.mkdir(parents=True)\n",
    "        \n",
    "    print(f\"Temp dirs created: {os.listdir(str(tmpdir_path))}\")\n",
    "    \n",
    "    \n",
    "    "
   ]
  },
  {
   "cell_type": "markdown",
   "metadata": {},
   "source": [
    "## RUN"
   ]
  },
  {
   "cell_type": "code",
   "execution_count": null,
   "metadata": {},
   "outputs": [],
   "source": [
    "\n",
    "\n",
    "\n",
    "with TemporaryDirectory() as tmpdir_aiwater:\n",
    "    \n",
    "\n",
    "    "
   ]
  }
 ],
 "metadata": {
  "kernelspec": {
   "display_name": "Python 3",
   "language": "python",
   "name": "python3"
  },
  "language_info": {
   "codemirror_mode": {
    "name": "ipython",
    "version": 3
   },
   "file_extension": ".py",
   "mimetype": "text/x-python",
   "name": "python",
   "nbconvert_exporter": "python",
   "pygments_lexer": "ipython3",
   "version": "3.8.2"
  }
 },
 "nbformat": 4,
 "nbformat_minor": 4
}
