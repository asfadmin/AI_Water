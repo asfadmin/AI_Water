{
 "cells": [
  {
   "cell_type": "code",
   "execution_count": 203,
   "metadata": {
    "scrolled": true
   },
   "outputs": [],
   "source": [
    "import requests\n",
    "import re\n",
    "import json\n",
    "from pprint import pprint\n",
    "from shapely import wkt\n",
    "from shapely.geometry import Polygon\n",
    "from datetime import datetime, date, timezone"
   ]
  },
  {
   "cell_type": "code",
   "execution_count": 3,
   "metadata": {},
   "outputs": [],
   "source": [
    "CMR_URL = 'https://cmr.earthdata.nasa.gov/search/granules.json'\n",
    "\n",
    "wkt_poly=\"POLYGON((-148.1418 64.6321,-147.4753 64.6321,-147.4753 64.9466,-148.1418 64.9466,-148.1418 64.6321))\"\n"
   ]
  },
  {
   "cell_type": "code",
   "execution_count": null,
   "metadata": {},
   "outputs": [],
   "source": [
    "class product:\n",
    "    "
   ]
  },
  {
   "cell_type": "code",
   "execution_count": 80,
   "metadata": {},
   "outputs": [],
   "source": [
    "def format_points(point_string):\n",
    "    converted_to_float = [float(x) for x in point_string.split(' ')]\n",
    "    points = [list(t) for t in zip(converted_to_float[1::2], converted_to_float[::2])]\n",
    "    return points"
   ]
  },
  {
   "cell_type": "code",
   "execution_count": 220,
   "metadata": {},
   "outputs": [],
   "source": [
    "def product_time(product_name):\n",
    "    product_time_regex = re.compile(\n",
    "        r\"S.*1SDV_(?P<start_year>\\d{4})(?P<start_month>\\d{2})(?P<start_day>\\d{2})T(?P<start_hour>\\d{2})(\"\n",
    "        r\"?P<start_minute>\\d{2})(?P<start_second>\\d{2})_(?P<end_year>\\d{4})(?P<end_month>\\d{2})(?P<end_day>\\d{2})T(\"\n",
    "        r\"?P<end_hour>\\d{2})(?P<end_minute>\\d{2})(?P<end_second>\\d{2})_*\")\n",
    "\n",
    "    regex_match = re.match(product_time_regex, product_name)\n",
    "    time_dict = regex_match.groupdict()\n",
    "\n",
    "    # converts all dates/times values in dictionary from int to string\n",
    "    for k, v in time_dict.items():\n",
    "        time_dict[k] = int(v)\n",
    "\n",
    "    start = datetime(time_dict[\"start_year\"], time_dict[\"start_month\"], time_dict[\"start_day\"],\n",
    "                     time_dict[\"start_hour\"], time_dict[\"start_minute\"], time_dict[\"start_second\"])\n",
    "\n",
    "    end = datetime(time_dict[\"end_year\"], time_dict[\"end_month\"], time_dict[\"end_day\"],\n",
    "                   time_dict[\"end_hour\"], time_dict[\"end_minute\"], time_dict[\"end_second\"])\n",
    "\n",
    "\n",
    "    return start, end"
   ]
  },
  {
   "cell_type": "code",
   "execution_count": 221,
   "metadata": {},
   "outputs": [],
   "source": [
    "def product_in_time_bounds(product_name, start, end):\n",
    "    prod_start, prod_end = product_time(product_name)\n",
    "    \n",
    "    return prod_start > start and prod_end < end\n",
    "    "
   ]
  },
  {
   "cell_type": "code",
   "execution_count": 222,
   "metadata": {},
   "outputs": [],
   "source": [
    "def format_time(time: datetime):\n",
    "#     utc_time = time.astimezone(timezone.utc)\n",
    "#     return utc_time.isoformat(timespec='seconds')\n",
    "    return time.isoformat()"
   ]
  },
  {
   "cell_type": "code",
   "execution_count": 223,
   "metadata": {},
   "outputs": [
    {
     "name": "stdout",
     "output_type": "stream",
     "text": [
      "2020-08-01T00:00:00\n"
     ]
    }
   ],
   "source": [
    "test_date = datetime(2020,8,1,0,0,0)\n",
    "print(format_time(test_date))"
   ]
  },
  {
   "cell_type": "code",
   "execution_count": 224,
   "metadata": {},
   "outputs": [],
   "source": [
    "def get_cmr_metadata(polygon, start, end):\n",
    "    payload = {}\n",
    "    \n",
    "    payload['provider'] = 'ASF'\n",
    "    payload['temporal'] = (start, end)\n",
    "    payload['polygon'] = polygon\n",
    "    payload['short_name'] = (\n",
    "            'SENTINEL-1A_DP_GRD_HIGH',\n",
    "            'SENTINEL-1B_DP_GRD_HIGH',\n",
    "            )\n",
    "    payload['page_size'] = 100\n",
    "\n",
    "\n",
    "    response = requests.post(CMR_URL, data=payload)\n",
    "    granules = [\n",
    "        {\n",
    "            'name': entry['producer_granule_id'],\n",
    "#             'polygon': Polygon(format_points(entry['polygons'][0][0]))\n",
    "        } for entry in response.json()['feed']['entry']\n",
    "    ]\n",
    "#     response = requests.post(CMR_URL, data=cmr_parameters)\n",
    "    response.raise_for_status()\n",
    "    return granules"
   ]
  },
  {
   "cell_type": "code",
   "execution_count": 225,
   "metadata": {
    "scrolled": false
   },
   "outputs": [
    {
     "name": "stdout",
     "output_type": "stream",
     "text": [
      "S1A_IW_GRDH_1SDV_20200807T162818_20200807T162843_033803_03EB45_A6DF,\n",
      "S1A_IW_GRDH_1SDV_20200807T162843_20200807T162908_033803_03EB45_30A8,\n"
     ]
    }
   ],
   "source": [
    "\n",
    "input_polygon = \"-148.2421,63.9554,-146.4533,63.9554,-146.4533,64.9447,-148.2421,64.9447,-148.2421,63.9554\"\n",
    "start_time = format_time(datetime(2020,8,day=1,hour=0,minute=0,second=0))\n",
    "# print(start_time)\n",
    "end_time = format_time(datetime(2020,8,day=8,hour=0,minute=0,second=0))\n",
    "\n",
    "meta_data = get_cmr_metadata(input_polygon,end_time, start_time)\n",
    "# for item in meta_data:\n",
    "#     pprint(item)\n",
    "\n",
    "# for name in meta_data:\n",
    "#     print(name['name'])\n",
    "    \n",
    "name_list = [name['name'] for name in meta_data]\n",
    "# pprint(f\"{set(name_list)} name_list COUNT={len(name_list)} set COUNT={len(set(name_list))}\")\n",
    "\n",
    "start_time = datetime(2020,8,day=1,hour=0,minute=0,second=0)\n",
    "end_time = datetime(2020,8,day=8,hour=0,minute=0,second=0)\n",
    "\n",
    "for name in name_list:\n",
    "    if product_in_time_bounds(name, start_time, end_time):\n",
    "        print(name+',')\n",
    "    \n"
   ]
  },
  {
   "cell_type": "code",
   "execution_count": null,
   "metadata": {},
   "outputs": [],
   "source": [
    "# test case for wkt_to_polyString\n",
    "\n",
    "\n",
    "test_wkt=\"POLYGON((-148.2421 63.9554,-146.4533 63.9554,-146.4533 64.9447,-148.2421 64.9447,-148.2421 63.9554))\"\n",
    "\n",
    "\n",
    "expected_str = \"-148.2421,63.9554,-146.4533,63.9554,-146.4533,64.9447,-148.2421,64.9447,-148.2421,63.9554\""
   ]
  }
 ],
 "metadata": {
  "kernelspec": {
   "display_name": "Python 3",
   "language": "python",
   "name": "python3"
  },
  "language_info": {
   "codemirror_mode": {
    "name": "ipython",
    "version": 3
   },
   "file_extension": ".py",
   "mimetype": "text/x-python",
   "name": "python",
   "nbconvert_exporter": "python",
   "pygments_lexer": "ipython3",
   "version": "3.8.2"
  }
 },
 "nbformat": 4,
 "nbformat_minor": 4
}
