{
 "cells": [
  {
   "cell_type": "code",
   "execution_count": 85,
   "metadata": {
    "scrolled": true
   },
   "outputs": [],
   "source": [
    "import requests\n",
    "import os\n",
    "import re\n",
    "import json\n",
    "import dataclasses as dc\n",
    "import numpy as np\n",
    "from dataclasses import field, asdict\n",
    "from pprint import pprint\n",
    "from shapely import wkt\n",
    "from shapely.geometry import Polygon\n",
    "from datetime import datetime, date, timezone\n",
    "from pathlib import Path\n",
    "from tempfile import TemporaryDirectory\n",
    "import matplotlib.pyplot as plt\n",
    "\n",
    "from shapely.ops import unary_union"
   ]
  },
  {
   "cell_type": "markdown",
   "metadata": {},
   "source": [
    "## GLOBALS"
   ]
  },
  {
   "cell_type": "code",
   "execution_count": 3,
   "metadata": {},
   "outputs": [],
   "source": [
    "CMR_URL = 'https://cmr.earthdata.nasa.gov/search/granules.json'\n",
    "\n"
   ]
  },
  {
   "cell_type": "markdown",
   "metadata": {},
   "source": [
    "## Product Class"
   ]
  },
  {
   "cell_type": "code",
   "execution_count": 4,
   "metadata": {},
   "outputs": [],
   "source": [
    "@dc.dataclass()\n",
    "class Product:\n",
    "    name: str\n",
    "    shape: Polygon = None\n",
    "    start: datetime = None\n",
    "    end: datetime = None\n",
    "        \n",
    "    def __post_init__(self):\n",
    "        self.product_time_regex = re.compile(\n",
    "                r\"S.*1SDV_(?P<start_year>\\d{4})(?P<start_month>\\d{2})(?P<start_day>\\d{2})T(?P<start_hour>\\d{2})(\"\n",
    "                r\"?P<start_minute>\\d{2})(?P<start_second>\\d{2})_(?P<end_year>\\d{4})(?P<end_month>\\d{2})(?P<end_day>\\d{2})T(\"\n",
    "                r\"?P<end_hour>\\d{2})(?P<end_minute>\\d{2})(?P<end_second>\\d{2})_*\")\n",
    "#         self.start = make_start(name)\n",
    "#         self.end = make_end(name)\n",
    "        self.start = self.make_start(self.name)\n",
    "        self.end = self.make_end(self.name)\n",
    "        \n",
    "        \n",
    "\n",
    "        \n",
    "    def make_start(self,product_name) -> datetime:\n",
    "        \n",
    "        regex_match = re.match(self.product_time_regex, product_name)\n",
    "        time_dict = regex_match.groupdict()\n",
    "        for k, v in time_dict.items():\n",
    "            time_dict[k] = int(v)\n",
    "\n",
    "        return datetime(time_dict[\"start_year\"], time_dict[\"start_month\"], time_dict[\"start_day\"],\n",
    "                        time_dict[\"start_hour\"], time_dict[\"start_minute\"], time_dict[\"start_second\"])\n",
    "\n",
    "\n",
    "\n",
    "    def make_end(self, product_name) -> datetime:\n",
    "\n",
    "        regex_match = re.match(self.product_time_regex, product_name)\n",
    "        time_dict = regex_match.groupdict()\n",
    "        for k, v in time_dict.items():\n",
    "            time_dict[k] = int(v)\n",
    "\n",
    "        return datetime(time_dict[\"end_year\"], time_dict[\"end_month\"], time_dict[\"end_day\"],\n",
    "                        time_dict[\"end_hour\"], time_dict[\"end_minute\"], time_dict[\"end_second\"])\n",
    "    \n",
    "    \n",
    "    def to_json(self):\n",
    "        metadata = asdict(self)\n",
    "        metadata['start'] = self.start.isoformat()\n",
    "        metadata['end'] = self.end.isoformat()\n",
    "        metadata['shape'] = str(self.shape)\n",
    "        \n",
    "#         for key in list(metadata):\n",
    "#             if key is datetime:\n",
    "#                 metadata[key] = metadata[key].isoformat()\n",
    "#                 print(f\"TEST: {key}= {metadata[key]}\")\n",
    "        return json.dumps(metadata)\n",
    "        \n",
    "        \n",
    "    "
   ]
  },
  {
   "cell_type": "markdown",
   "metadata": {},
   "source": [
    "### format_points"
   ]
  },
  {
   "cell_type": "code",
   "execution_count": 20,
   "metadata": {},
   "outputs": [],
   "source": [
    "def format_points(point_string):\n",
    "    converted_to_float = [float(x) for x in point_string.split(' ')]\n",
    "    points = [list(t) for t in zip(converted_to_float[1::2], converted_to_float[::2])]\n",
    "    return points"
   ]
  },
  {
   "cell_type": "markdown",
   "metadata": {},
   "source": [
    "### Polygon_to_point_str"
   ]
  },
  {
   "cell_type": "code",
   "execution_count": 5,
   "metadata": {},
   "outputs": [],
   "source": [
    "\n",
    "def polygon_to_point_str(poly: Polygon) -> str:\n",
    "    \"\"\"Input Polygon. Returns a CMR compatible point string \"\"\"\n",
    "    coord_lst = [coord for coord in list(poly.exterior.coords)]\n",
    "    pt_lst = []\n",
    "    for coord in coord_lst:\n",
    "        for pt in coord:\n",
    "            pt_lst.append(pt)\n",
    "            \n",
    "    listToStr = ','.join(map(str, pt_lst))\n",
    "    return listToStr\n",
    "    "
   ]
  },
  {
   "cell_type": "markdown",
   "metadata": {},
   "source": [
    "#### TEST: polygon_to_point_str"
   ]
  },
  {
   "cell_type": "code",
   "execution_count": 8,
   "metadata": {},
   "outputs": [
    {
     "name": "stdout",
     "output_type": "stream",
     "text": [
      "-148.2421,63.9554,-146.4533,63.9554,-146.4533,64.9447,-148.2421,64.9447,-148.2421,63.9554\n"
     ]
    }
   ],
   "source": [
    "# Test polygon_to_point_str\n",
    "test_ptps_wkt = \"POLYGON((-148.2421 63.9554,-146.4533 63.9554,-146.4533 64.9447,-148.2421 64.9447,-148.2421 63.9554))\"\n",
    "test_ptps_poly= wkt.loads(test_ptps_wkt)\n",
    "test_ptps_point_str = \"-148.2421,63.9554,-146.4533,63.9554,-146.4533,64.9447,-148.2421,64.9447,-148.2421,63.9554\"\n",
    "\n",
    "\n",
    "assert polygon_to_point_str(test_ptps_poly)==test_ptps_point_str\n",
    "print(polygon_to_point_str(test_ptps_poly))"
   ]
  },
  {
   "cell_type": "markdown",
   "metadata": {},
   "source": [
    "### product_time"
   ]
  },
  {
   "cell_type": "code",
   "execution_count": 22,
   "metadata": {},
   "outputs": [],
   "source": [
    "def product_time(product_name):\n",
    "    product_time_regex = re.compile(\n",
    "        r\"S.*1SDV_(?P<start_year>\\d{4})(?P<start_month>\\d{2})(?P<start_day>\\d{2})T(?P<start_hour>\\d{2})(\"\n",
    "        r\"?P<start_minute>\\d{2})(?P<start_second>\\d{2})_(?P<end_year>\\d{4})(?P<end_month>\\d{2})(?P<end_day>\\d{2})T(\"\n",
    "        r\"?P<end_hour>\\d{2})(?P<end_minute>\\d{2})(?P<end_second>\\d{2})_*\")\n",
    "\n",
    "    regex_match = re.match(product_time_regex, product_name)\n",
    "    time_dict = regex_match.groupdict()\n",
    "\n",
    "    # converts all dates/times values in dictionary from int to string\n",
    "    for k, v in time_dict.items():\n",
    "        time_dict[k] = int(v)\n",
    "\n",
    "    start = datetime(time_dict[\"start_year\"], time_dict[\"start_month\"], time_dict[\"start_day\"],\n",
    "                     time_dict[\"start_hour\"], time_dict[\"start_minute\"], time_dict[\"start_second\"])\n",
    "\n",
    "    end = datetime(time_dict[\"end_year\"], time_dict[\"end_month\"], time_dict[\"end_day\"],\n",
    "                   time_dict[\"end_hour\"], time_dict[\"end_minute\"], time_dict[\"end_second\"])\n",
    "\n",
    "\n",
    "    return start, end"
   ]
  },
  {
   "cell_type": "markdown",
   "metadata": {},
   "source": [
    "### product_in_time_bounds"
   ]
  },
  {
   "cell_type": "code",
   "execution_count": 23,
   "metadata": {},
   "outputs": [],
   "source": [
    "def product_in_time_bounds(product_name, start, end):\n",
    "    prod_start, prod_end = product_time(product_name)\n",
    "    \n",
    "    return prod_start > start and prod_end < end\n",
    "    "
   ]
  },
  {
   "cell_type": "code",
   "execution_count": 24,
   "metadata": {},
   "outputs": [],
   "source": [
    "def format_time(time: datetime):\n",
    "#     utc_time = time.astimezone(timezone.utc)\n",
    "#     return utc_time.isoformat(timespec='seconds')\n",
    "    return time.isoformat()"
   ]
  },
  {
   "cell_type": "code",
   "execution_count": 25,
   "metadata": {},
   "outputs": [
    {
     "name": "stdout",
     "output_type": "stream",
     "text": [
      "2020-08-01T00:00:00\n"
     ]
    }
   ],
   "source": [
    "test_date = datetime(2020,8,1,0,0,0)\n",
    "print(format_time(test_date))"
   ]
  },
  {
   "cell_type": "markdown",
   "metadata": {},
   "source": [
    "### get_cmr_metadata"
   ]
  },
  {
   "cell_type": "code",
   "execution_count": 26,
   "metadata": {},
   "outputs": [],
   "source": [
    "def get_cmr_metadata(shape:Polygon, start: datetime, end: datetime):\n",
    "    \n",
    "    payload = {}\n",
    "    payload['provider'] = 'ASF'\n",
    "    payload['temporal'] = (start.isoformat(), end.isoformat())\n",
    "    payload['polygon'] = polygon_to_point_str(shape)\n",
    "    payload['short_name'] = (\n",
    "            'SENTINEL-1A_DP_GRD_HIGH',\n",
    "            'SENTINEL-1B_DP_GRD_HIGH',\n",
    "            )\n",
    "    payload['page_size'] = 100\n",
    "\n",
    "\n",
    "    response = requests.post(CMR_URL, data=payload)\n",
    "#     print(response.json)\n",
    "    products = [\n",
    "            entry['producer_granule_id'] for entry in response.json()['feed']['entry'] if product_in_time_bounds(entry['producer_granule_id'], start, end)\n",
    "    ]\n",
    "    return products\n",
    "    granules = [\n",
    "        {\n",
    "            'name': entry['producer_granule_id'],\n",
    "#             'polygon': Polygon(format_points(entry['polygons'][0][0]))\n",
    "        } for entry in response.json()['feed']['entry']\n",
    "    ]\n",
    "    response.raise_for_status()\n",
    "    return granules"
   ]
  },
  {
   "cell_type": "markdown",
   "metadata": {},
   "source": [
    "## TEST: get_cmr_metadata"
   ]
  },
  {
   "cell_type": "code",
   "execution_count": 27,
   "metadata": {},
   "outputs": [
    {
     "name": "stdout",
     "output_type": "stream",
     "text": [
      "['S1A_IW_GRDH_1SDV_20200807T162818_20200807T162843_033803_03EB45_A6DF',\n",
      " 'S1A_IW_GRDH_1SDV_20200807T162843_20200807T162908_033803_03EB45_30A8']\n"
     ]
    }
   ],
   "source": [
    "test_wkt   = \"POLYGON((-148.1418 64.6321,-147.4753 64.6321,-147.4753 64.9466,-148.1418 64.9466,-148.1418 64.6321))\"\n",
    "test_poly  = wkt.loads(test_wkt)\n",
    "test_start = datetime(year=2020,month=8,day=1,hour=0,minute=0,second=0)\n",
    "test_end   = datetime(year=2020,month=8,day=8,hour=0,minute=0,second=0)\n",
    "\n",
    "test_products = get_cmr_metadata(test_poly, test_start, test_end)\n",
    "\n",
    "pprint(test_products)\n",
    "\n",
    "\n"
   ]
  },
  {
   "cell_type": "markdown",
   "metadata": {},
   "source": [
    "## get_products_cmr"
   ]
  },
  {
   "cell_type": "code",
   "execution_count": 28,
   "metadata": {},
   "outputs": [],
   "source": [
    "\n",
    "# TODO: Get initial queary to return products of proper datetime\n",
    "def get_products_cmr(shape:Polygon, start: datetime, end: datetime):\n",
    "    \n",
    "    payload = {}\n",
    "    payload['provider'] = 'ASF'\n",
    "    payload['temporal'] = (start.isoformat(), end.isoformat())\n",
    "    payload['polygon'] = polygon_to_point_str(shape)\n",
    "    payload['short_name'] = (\n",
    "            'SENTINEL-1A_DP_GRD_HIGH',\n",
    "            'SENTINEL-1B_DP_GRD_HIGH',\n",
    "            )\n",
    "    payload['page_size'] = 100\n",
    "\n",
    "    response = requests.post(CMR_URL, data=payload)\n",
    "#     pprint(response.json())\n",
    "\n",
    "    products = []\n",
    "    for entry in response.json()['feed']['entry']:\n",
    "        if product_in_time_bounds(entry['producer_granule_id'], start, end):\n",
    "            products.append(Product(\n",
    "                                    name = entry['producer_granule_id'],\n",
    "                                    shape = Polygon(format_points(entry['polygons'][0][0]))\n",
    "                                   ))\n",
    "\n",
    "    return products\n"
   ]
  },
  {
   "cell_type": "markdown",
   "metadata": {},
   "source": [
    "### TEST: get_products_cmr"
   ]
  },
  {
   "cell_type": "code",
   "execution_count": 30,
   "metadata": {
    "scrolled": true
   },
   "outputs": [
    {
     "name": "stdout",
     "output_type": "stream",
     "text": [
      "{\"name\": \"S1A_IW_GRDH_1SDV_20200807T162818_20200807T162843_033803_03EB45_A6DF\", \"shape\": \"POLYGON ((-147.250381 64.64534, -146.353043 66.116508, -151.962357 66.58766199999999, -152.556412 65.101822, -147.250381 64.64534))\", \"start\": \"2020-08-07T16:28:18\", \"end\": \"2020-08-07T16:28:43\"}\n",
      "{\"name\": \"S1A_IW_GRDH_1SDV_20200807T162843_20200807T162908_033803_03EB45_30A8\", \"shape\": \"POLYGON ((-148.107025 63.174152, -147.250427 64.645256, -152.554779 65.101624, -153.141724 63.616859, -148.107025 63.174152))\", \"start\": \"2020-08-07T16:28:43\", \"end\": \"2020-08-07T16:29:08\"}\n",
      "{\"name\": \"S1A_IW_GRDH_1SDV_20200809T161156_20200809T161221_033832_03EC40_9A21\", \"shape\": \"POLYGON ((-143.374802 64.30976099999999, -142.475571 65.779594, -147.98317 66.24443100000001, -148.589005 64.759766, -143.374802 64.30976099999999))\", \"start\": \"2020-08-09T16:11:56\", \"end\": \"2020-08-09T16:12:21\"}\n",
      "{\"name\": \"S1A_IW_GRDH_1SDV_20200809T161221_20200809T161246_033832_03EC40_F635\", \"shape\": \"POLYGON ((-144.179428 62.834026, -143.374863 64.309669, -148.587158 64.759552, -149.130157 63.272141, -144.179428 62.834026))\", \"start\": \"2020-08-09T16:12:21\", \"end\": \"2020-08-09T16:12:46\"}\n",
      "{\"name\": \"S1B_IW_GRDH_1SDV_20200811T032031_20200811T032056_022870_02B695_52D8\", \"shape\": \"POLYGON ((-150.147675 65.465256, -149.282257 63.992733, -144.1306 64.439964, -144.709641 65.926163, -150.147675 65.465256))\", \"start\": \"2020-08-11T03:20:31\", \"end\": \"2020-08-11T03:20:56\"}\n"
     ]
    }
   ],
   "source": [
    "test_gpc_wkt   = \"POLYGON((-148.1418 64.6321,-147.4753 64.6321,-147.4753 64.9466,-148.1418 64.9466,-148.1418 64.6321))\"\n",
    "test_gpc_poly  = wkt.loads(test_wkt)\n",
    "test_gpc_start = datetime(year=2020,month=8,day=1,hour=0,minute=0,second=0)\n",
    "test_gpc_end   = datetime(year=2020,month=8,day=15,hour=0,minute=0,second=0)\n",
    "\n",
    "test_gpc_products = get_products_cmr(test_gpc_poly, test_gpc_start, test_gpc_end)\n",
    "\n",
    "\n",
    "for product in test_gpc_products:\n",
    "    print(product.to_json())\n",
    "    \n",
    "\n"
   ]
  },
  {
   "cell_type": "code",
   "execution_count": 37,
   "metadata": {},
   "outputs": [],
   "source": [
    "def tree(directory):\n",
    "    \"\"\"print directory tree of given Path object\"\"\"\n",
    "    print(f'+ {directory}')\n",
    "    for path in sorted(directory.rglob('*')):\n",
    "        depth = len(path.relative_to(directory).parts)\n",
    "        spacer = '    ' * depth\n",
    "        print(f'{spacer}+ {path.name}')\n",
    "\n",
    "def create_directories(root_path: Path) -> None:\n",
    "    \"\"\"Creates the directories for storing our data\"\"\"\n",
    "    \n",
    "    PROJECT_ROOT = root_path.resolve().parents[1]\n",
    "    \n",
    "    # Path configurations for data directory\n",
    "    DATA_DIR = PROJECT_ROOT / \"data\"\n",
    "\n",
    "    GRANULES_DIR    = DATA_DIR / \"granules\"\n",
    "    TILES_DIR       = DATA_DIR / \"tiles\"\n",
    "    SHAPEFILE_DIR   = DATA_DIR / \"shape_files\"\n",
    "    WATER_MASKS_DIR = DATA_DIR / \"water_masks\"\n",
    "    \n",
    "    \n",
    "    directories = [GRANULES_DIR, SHAPEFILE_DIR, TILES_DIR, WATER_MASKS_DIR]\n",
    "    for directory in directories:\n",
    "        directory.mkdir(parents=True)"
   ]
  },
  {
   "cell_type": "code",
   "execution_count": 38,
   "metadata": {},
   "outputs": [
    {
     "name": "stdout",
     "output_type": "stream",
     "text": [
      "Temp dirs created: ['shape_files', 'granules', 'tiles', 'water_masks']\n",
      "+ /tmp/tmpokp2aqj8\n",
      "    + granules\n",
      "    + shape_files\n",
      "    + tiles\n",
      "    + water_masks\n"
     ]
    }
   ],
   "source": [
    "# with TemporaryDirectory() as tmpdir_name:\n",
    "#     tmpdir_path = Path(tmpdir_name)\n",
    "#     create_directories(tmpdir_path)\n",
    "#     print(os.listdir(f\"{str(tmpdir_path)}\"))\n",
    "    \n",
    "    \n",
    "with TemporaryDirectory() as tmpdir_name:\n",
    "    \n",
    "    tmpdir_path = Path(tmpdir_name)\n",
    "    \n",
    "    TILES_DIR       = tmpdir_path / \"tiles/\"\n",
    "    GRANULES_DIR    = tmpdir_path / \"granules\"\n",
    "    SHAPEFILE_DIR   = tmpdir_path / \"shape_files\"\n",
    "    WATER_MASKS_DIR = tmpdir_path / \"water_masks\"\n",
    "    \n",
    "    directories = [GRANULES_DIR, SHAPEFILE_DIR, TILES_DIR, WATER_MASKS_DIR]\n",
    "    for directory in directories:\n",
    "        directory.mkdir(parents=True)\n",
    "        \n",
    "    print(f\"Temp dirs created: {os.listdir(str(tmpdir_path))}\")\n",
    "    tree(tmpdir_path)\n",
    "    \n",
    "    "
   ]
  },
  {
   "cell_type": "code",
   "execution_count": 39,
   "metadata": {},
   "outputs": [],
   "source": [
    "def triage_products(products):\n",
    "    return sorted(products, key=lambda product: product.start)"
   ]
  },
  {
   "cell_type": "markdown",
   "metadata": {},
   "source": [
    "## RUN"
   ]
  },
  {
   "cell_type": "code",
   "execution_count": 218,
   "metadata": {
    "scrolled": true
   },
   "outputs": [
    {
     "name": "stdout",
     "output_type": "stream",
     "text": [
      "S1B_IW_GRDH_1SDV_20200801T030347_20200801T030412_022724_02B20B_927C\n",
      "S1B_IW_GRDH_1SDV_20200801T030412_20200801T030437_022724_02B20B_0CBB\n",
      "S1A_IW_GRDH_1SDV_20200807T162818_20200807T162843_033803_03EB45_A6DF\n",
      "S1A_IW_GRDH_1SDV_20200807T162843_20200807T162908_033803_03EB45_30A8\n",
      "S1B_IW_GRDH_1SDV_20200809T033631_20200809T033656_022841_02B5B0_6CD7\n",
      "S1B_IW_GRDH_1SDV_20200809T033656_20200809T033721_022841_02B5B0_147A\n",
      "S1A_IW_GRDH_1SDV_20200809T161156_20200809T161221_033832_03EC40_9A21\n",
      "S1A_IW_GRDH_1SDV_20200809T161221_20200809T161246_033832_03EC40_F635\n",
      "S1B_IW_GRDH_1SDV_20200811T032006_20200811T032031_022870_02B695_B919\n",
      "S1B_IW_GRDH_1SDV_20200811T032031_20200811T032056_022870_02B695_52D8\n",
      "S1B_IW_GRDH_1SDV_20200811T032056_20200811T032121_022870_02B695_27E2\n",
      "S1B_IW_GRDH_1SDV_20200813T030348_20200813T030413_022899_02B76C_7220\n",
      "S1B_IW_GRDH_1SDV_20200813T030413_20200813T030438_022899_02B76C_C6FA\n"
     ]
    },
    {
     "data": {
      "image/png": "[encoded data removed]",
      "text/plain": [
       "<Figure size 432x288 with 1 Axes>"
      ]
     },
     "metadata": {
      "needs_background": "light"
     },
     "output_type": "display_data"
    }
   ],
   "source": [
    "%matplotlib inline\n",
    "\n",
    "\n",
    "test_aoi_wkt = \"POLYGON((-149.4512 63.6973,-145.4227 63.6973,-145.4227 65.6,-149.4512 65.6,-149.4512 63.6973))\"\n",
    "test_aoi_poly  = wkt.loads(test_aoi_wkt)\n",
    "test_aoi_start = datetime(year=2020,month=8,day=1,hour=0,minute=0,second=0)\n",
    "test_aoi_end   = datetime(year=2020,month=8,day=15,hour=0,minute=0,second=0)\n",
    "\n",
    "test_aoi_products = get_products_cmr(test_aoi_poly, test_aoi_start, test_aoi_end)\n",
    "\n",
    "\n",
    "# for product in test_aoi_products:\n",
    "#     print(product.name)\n",
    "    \n",
    "sorted_products = triage_products(test_aoi_products)\n",
    "\n",
    "\n",
    "for product in sorted_products:\n",
    "    print(product.name)\n",
    "\n",
    "x,y = test_aoi_poly.exterior.xy\n",
    "plt.plot(x,y)\n",
    "\n",
    "for product in sorted_products:\n",
    "    x,y = product.shape.exterior.xy\n",
    "    plt.fill(x,y)\n",
    "\n",
    "    \n",
    "    \n",
    "    \n",
    "    \n",
    "    \n",
    "    \n",
    "    \n",
    "    \n",
    "    \n",
    "    \n",
    "    \n",
    "\n",
    "# with TemporaryDirectory() as tmpdir_aiwater:\n",
    "    \n",
    "\n",
    "    "
   ]
  },
  {
   "cell_type": "code",
   "execution_count": 305,
   "metadata": {},
   "outputs": [],
   "source": [
    "       \n",
    "from copy import copy, deepcopy\n",
    "\n",
    "def percentage(part, whole):\n",
    "  return 100 * float(part)/float(whole)\n",
    "\n",
    "def get_min_granule_coverage(products: list, aoi: Polygon) -> list:\n",
    "    \"\"\"Input list of Product objects and a target Polygon.\n",
    "       returns the minimum prodcuts needed to cover the AOI.\n",
    "       Gives prefereance to the most recently created Products.\"\"\"\n",
    "    \n",
    "    dif = copy(aoi)\n",
    "    \n",
    "    sorted_products = deepcopy(products)\n",
    "    min_products = []\n",
    "#     fill_shps = []\n",
    "    \n",
    "    for current in reversed(sorted_products):\n",
    "        print(current.name)\n",
    "        print(dif.area)\n",
    "        \n",
    "        if not round(percentage(dif.area, aoi.area)) > 0:\n",
    "            return min_products\n",
    "        \n",
    "        current_shape = current.shape\n",
    "\n",
    "        intersect = current_shape.intersection(aoi)\n",
    "        \n",
    "#         if dif.contains(intersect.buffer(-1e-14)):\n",
    "#             continue\n",
    "            \n",
    "        min_products.insert(0, current)\n",
    "        \n",
    "        dif = dif - intersect\n",
    "        \n",
    "#         fill_shps.append(intersect)\n",
    "        \n",
    "#         if len(fill_shps) > 0:\n",
    "#             fill = unary_union(fill_shps)\n",
    "        \n",
    "\n",
    "\n",
    "        \n",
    "\n",
    "#     return min_products\n",
    "    "
   ]
  },
  {
   "cell_type": "code",
   "execution_count": 306,
   "metadata": {},
   "outputs": [
    {
     "name": "stdout",
     "output_type": "stream",
     "text": [
      "S1B_IW_GRDH_1SDV_20200813T030413_20200813T030438_022899_02B76C_C6FA\n",
      "7.665026949999999\n",
      "S1B_IW_GRDH_1SDV_20200813T030348_20200813T030413_022899_02B76C_7220\n",
      "7.665026949999999\n",
      "S1B_IW_GRDH_1SDV_20200811T032056_20200811T032121_022870_02B695_27E2\n",
      "7.665026949999999\n",
      "S1B_IW_GRDH_1SDV_20200811T032031_20200811T032056_022870_02B695_52D8\n",
      "7.665026949999999\n",
      "S1B_IW_GRDH_1SDV_20200811T032006_20200811T032031_022870_02B695_B919\n",
      "7.665026949999999\n",
      "S1A_IW_GRDH_1SDV_20200809T161221_20200809T161246_033832_03EC40_F635\n",
      "7.665026949999999\n",
      "S1A_IW_GRDH_1SDV_20200809T161156_20200809T161221_033832_03EC40_9A21\n",
      "7.665026949999999\n",
      "S1B_IW_GRDH_1SDV_20200809T033656_20200809T033721_022841_02B5B0_147A\n",
      "4.716015924853907\n",
      "S1B_IW_GRDH_1SDV_20200809T033631_20200809T033656_022841_02B5B0_6CD7\n",
      "3.3206611840157567\n",
      "S1A_IW_GRDH_1SDV_20200807T162843_20200807T162908_033803_03EB45_30A8\n",
      "3.3206611840157567\n",
      "S1A_IW_GRDH_1SDV_20200807T162818_20200807T162843_033803_03EB45_A6DF\n",
      "1.9742469928232014\n",
      "S1B_IW_GRDH_1SDV_20200801T030412_20200801T030437_022724_02B20B_0CBB\n",
      "1.848223774623114\n",
      "S1B_IW_GRDH_1SDV_20200801T030347_20200801T030412_022724_02B20B_927C\n",
      "1.848223774623114\n",
      "originally 13\n"
     ]
    },
    {
     "ename": "TypeError",
     "evalue": "object of type 'NoneType' has no len()",
     "output_type": "error",
     "traceback": [
      "\u001b[0;31m---------------------------------------------------------------------------\u001b[0m",
      "\u001b[0;31mTypeError\u001b[0m                                 Traceback (most recent call last)",
      "\u001b[0;32m<ipython-input-306-76969c75b547>\u001b[0m in \u001b[0;36m<module>\u001b[0;34m\u001b[0m\n\u001b[1;32m     14\u001b[0m \u001b[0;34m\u001b[0m\u001b[0m\n\u001b[1;32m     15\u001b[0m \u001b[0mprint\u001b[0m\u001b[0;34m(\u001b[0m\u001b[0;34mf\"originally {len(test_aoi_products)}\"\u001b[0m\u001b[0;34m)\u001b[0m\u001b[0;34m\u001b[0m\u001b[0;34m\u001b[0m\u001b[0m\n\u001b[0;32m---> 16\u001b[0;31m \u001b[0mprint\u001b[0m\u001b[0;34m(\u001b[0m\u001b[0;34mf\"reduced to {len(test_min_products)}\"\u001b[0m\u001b[0;34m)\u001b[0m\u001b[0;34m\u001b[0m\u001b[0;34m\u001b[0m\u001b[0m\n\u001b[0m\u001b[1;32m     17\u001b[0m \u001b[0;34m\u001b[0m\u001b[0m\n\u001b[1;32m     18\u001b[0m \u001b[0mx\u001b[0m\u001b[0;34m,\u001b[0m\u001b[0my\u001b[0m \u001b[0;34m=\u001b[0m \u001b[0mtest_aoi_poly\u001b[0m\u001b[0;34m.\u001b[0m\u001b[0mexterior\u001b[0m\u001b[0;34m.\u001b[0m\u001b[0mxy\u001b[0m\u001b[0;34m\u001b[0m\u001b[0;34m\u001b[0m\u001b[0m\n",
      "\u001b[0;31mTypeError\u001b[0m: object of type 'NoneType' has no len()"
     ]
    }
   ],
   "source": [
    "%matplotlib inline\n",
    "\n",
    "test_aoi_wkt = \"POLYGON((-149.4512 63.6973,-145.4227 63.6973,-145.4227 65.6,-149.4512 65.6,-149.4512 63.6973))\"\n",
    "test_aoi_poly  = wkt.loads(test_aoi_wkt)\n",
    "test_aoi_start = datetime(year=2020,month=8,day=1,hour=0,minute=0,second=0)\n",
    "test_aoi_end   = datetime(year=2020,month=8,day=15,hour=0,minute=0,second=0)\n",
    "\n",
    "test_aoi_products = get_products_cmr(test_aoi_poly, test_aoi_start, test_aoi_end)\n",
    "test_sorted_aoi_products = triage_products(test_aoi_products)\n",
    "\n",
    "\n",
    "test_min_products = get_min_granule_coverage(test_sorted_aoi_products, test_aoi_poly)\n",
    "\n",
    "\n",
    "print(f\"originally {len(test_aoi_products)}\")\n",
    "print(f\"reduced to {len(test_min_products)}\")\n",
    "\n",
    "x,y = test_aoi_poly.exterior.xy\n",
    "plt.plot(x,y)\n",
    "\n",
    "for p in test_min_products:\n",
    "    print(p.name)\n",
    "    x,y = p.shape.exterior.xy\n",
    "    plt.plot(x,y)\n",
    "\n",
    "# assert len(test_min_product_names)==4"
   ]
  },
  {
   "cell_type": "code",
   "execution_count": 304,
   "metadata": {},
   "outputs": [
    {
     "ename": "AssertionError",
     "evalue": "",
     "output_type": "error",
     "traceback": [
      "\u001b[0;31m---------------------------------------------------------------------------\u001b[0m",
      "\u001b[0;31mAssertionError\u001b[0m                            Traceback (most recent call last)",
      "\u001b[0;32m<ipython-input-304-80e879418f2b>\u001b[0m in \u001b[0;36m<module>\u001b[0;34m\u001b[0m\n\u001b[1;32m     60\u001b[0m \u001b[0;34m\u001b[0m\u001b[0m\n\u001b[1;32m     61\u001b[0m \u001b[0;34m\u001b[0m\u001b[0m\n\u001b[0;32m---> 62\u001b[0;31m \u001b[0;32massert\u001b[0m \u001b[0mdif\u001b[0m\u001b[0;34m.\u001b[0m\u001b[0mequals\u001b[0m\u001b[0;34m(\u001b[0m\u001b[0mtest_aoi_poly\u001b[0m\u001b[0;34m)\u001b[0m\u001b[0;34m\u001b[0m\u001b[0;34m\u001b[0m\u001b[0m\n\u001b[0m\u001b[1;32m     63\u001b[0m \u001b[0;34m\u001b[0m\u001b[0m\n\u001b[1;32m     64\u001b[0m \u001b[0;34m\u001b[0m\u001b[0m\n",
      "\u001b[0;31mAssertionError\u001b[0m: "
     ]
    },
    {
     "data": {
      "image/png": "[encoded data removed]",
      "text/plain": [
       "<Figure size 432x288 with 1 Axes>"
      ]
     },
     "metadata": {
      "needs_background": "light"
     },
     "output_type": "display_data"
    }
   ],
   "source": [
    "# test polygones from example products\n",
    "\n",
    "t1 = Polygon([(-145.438751, 64.507965), (-144.623535, 63.03294), (-139.646072, 63.471382), (-140.196121, 64.958496), (-145.438751, 64.507965)])\n",
    "t2 = Polygon([(-146.353333, 65.976906), (-145.438812, 64.508049), (-140.194275, 64.95871), (-140.811172, 66.442871), (-146.353333, 65.976906)])\n",
    "t3 = Polygon([(-147.250381, 64.64534),  (-146.353043, 66.116508), (-151.962357, 66.58766199999999), (-152.556412, 65.101822), (-147.250381, 64.64534)])\n",
    "t4 = Polygon([(-148.107025, 63.174152), (-147.250427, 64.645256), (-152.554779, 65.101624), (-153.141724, 63.616859), (-148.107025, 63.174152)])\n",
    "t5 = Polygon([(-153.305618, 63.814056), (-152.50769, 62.338947), (-147.640671, 62.773293), (-148.187286, 64.26004), (-153.305618, 63.814056)])\n",
    "\n",
    "\n",
    "# aoi poly\n",
    "x,y = test_aoi_poly.exterior.xy\n",
    "plt.plot(x,y)\n",
    "\n",
    "# # t1\n",
    "t1_inter = test_aoi_poly.intersection(t1)\n",
    "x,y = t1.exterior.xy\n",
    "plt.plot(x,y)\n",
    "# x,y = t1_inter.exterior.xy\n",
    "# plt.fill(x,y)\n",
    "\n",
    "# # t2\n",
    "t2_inter = test_aoi_poly.intersection(t2)\n",
    "x,y = t2.exterior.xy\n",
    "plt.plot(x,y)\n",
    "# x,y = t2_inter.exterior.xy\n",
    "# plt.fill(x,y)\n",
    "\n",
    "# # t3\n",
    "t3_inter = test_aoi_poly.intersection(t3)\n",
    "x,y = t3.exterior.xy\n",
    "plt.plot(x,y)\n",
    "# x,y = t3_inter.exterior.xy\n",
    "# plt.fill(x,y)\n",
    "\n",
    "# # t4\n",
    "t4_inter = test_aoi_poly.intersection(t4)\n",
    "x,y = t4.exterior.xy\n",
    "plt.plot(x,y)\n",
    "# x,y = t4_inter.exterior.xy\n",
    "# plt.fill(x,y)\n",
    "\n",
    "# # t5\n",
    "t5_inter = test_aoi_poly.intersection(t5)\n",
    "x,y = t5.exterior.xy\n",
    "plt.plot(x,y)\n",
    "# x,y = t5_inter.exterior.xy\n",
    "# plt.fill(x,y)\n",
    "\n",
    "# union\n",
    "# u = unary_union([t3_inter, t4_inter, t5_inter])\n",
    "# x,y = u.exterior.xy\n",
    "# plt.fill(x,y)\n",
    "\n",
    "\n",
    "# difference from aoi\n",
    "u = unary_union([t1_inter, t2_inter, t3_inter, t4_inter, t5_inter])\n",
    "dif = test_aoi_poly - u\n",
    "x,y = dif.exterior.xy\n",
    "plt.fill(x,y)\n",
    "\n",
    "\n",
    "assert dif.equals(test_aoi_poly)\n",
    "\n",
    "\n",
    "\n",
    "\n",
    "\n",
    "\n",
    "\n",
    "# POLYGON ((-154.149109 65.28845200000001, -153.305679 63.814144, -148.185486 64.260254, -148.746719 65.74745900000001, -154.149109 65.28845200000001))\n",
    "# POLYGON ((-143.374802 64.30976099999999, -142.475571 65.779594, -147.98317 66.24443100000001, -148.589005 64.759766, -143.374802 64.30976099999999))\n",
    "# POLYGON ((-144.179428 62.834026, -143.374863 64.309669, -148.587158 64.759552, -149.130157 63.272141, -144.179428 62.834026))\n",
    "# POLYGON ((-149.282196 63.992645, -148.47467 62.51812, -143.579681 62.95327, -144.132401 64.439751, -149.282196 63.992645))\n",
    "# POLYGON ((-150.147675 65.465256, -149.282257 63.992733, -144.1306 64.439964, -144.709641 65.926163, -150.147675 65.465256))\n",
    "# POLYGON ((-151.075882 66.93590500000001, -150.147736 65.46534699999999, -144.707932 65.92636899999999, -145.31337 67.412346, -151.075882 66.93590500000001))\n",
    "# POLYGON ((-145.441833 64.507774, -144.626434 63.032768, -139.649048 63.471336, -140.199295 64.95843499999999, -145.441833 64.507774))\n",
    "# POLYGON ((-146.356613 65.97669999999999, -145.441895 64.50786600000001, -140.197449 64.958656, -140.814545 66.44280999999999, -146.356613 65.97669999999999))"
   ]
  },
  {
   "cell_type": "code",
   "execution_count": 125,
   "metadata": {},
   "outputs": [
    {
     "name": "stdout",
     "output_type": "stream",
     "text": [
      "POLYGON ((-145.438751 64.507965, -144.623535 63.03294, -139.646072 63.471382, -140.196121 64.958496, -145.438751 64.507965))\n",
      "POLYGON ((-146.353333 65.976906, -145.438812 64.508049, -140.194275 64.95871, -140.811172 66.442871, -146.353333 65.976906))\n",
      "POLYGON ((-147.250381 64.64534, -146.353043 66.116508, -151.962357 66.58766199999999, -152.556412 65.101822, -147.250381 64.64534))\n",
      "POLYGON ((-148.107025 63.174152, -147.250427 64.645256, -152.554779 65.101624, -153.141724 63.616859, -148.107025 63.174152))\n",
      "POLYGON ((-153.305618 63.814056, -152.50769 62.338947, -147.640671 62.773293, -148.187286 64.26004, -153.305618 63.814056))\n",
      "POLYGON ((-154.149109 65.28845200000001, -153.305679 63.814144, -148.185486 64.260254, -148.746719 65.74745900000001, -154.149109 65.28845200000001))\n",
      "POLYGON ((-143.374802 64.30976099999999, -142.475571 65.779594, -147.98317 66.24443100000001, -148.589005 64.759766, -143.374802 64.30976099999999))\n",
      "POLYGON ((-144.179428 62.834026, -143.374863 64.309669, -148.587158 64.759552, -149.130157 63.272141, -144.179428 62.834026))\n",
      "POLYGON ((-149.282196 63.992645, -148.47467 62.51812, -143.579681 62.95327, -144.132401 64.439751, -149.282196 63.992645))\n",
      "POLYGON ((-150.147675 65.465256, -149.282257 63.992733, -144.1306 64.439964, -144.709641 65.926163, -150.147675 65.465256))\n",
      "POLYGON ((-151.075882 66.93590500000001, -150.147736 65.46534699999999, -144.707932 65.92636899999999, -145.31337 67.412346, -151.075882 66.93590500000001))\n",
      "POLYGON ((-145.441833 64.507774, -144.626434 63.032768, -139.649048 63.471336, -140.199295 64.95843499999999, -145.441833 64.507774))\n",
      "POLYGON ((-146.356613 65.97669999999999, -145.441895 64.50786600000001, -140.197449 64.958656, -140.814545 66.44280999999999, -146.356613 65.97669999999999))\n",
      "==============\n",
      "intersections aoi S1B_IW_GRDH_1SDV_20200801T030347_20200801T030412_022724_02B20B_927C\n",
      "total_fill type is <class 'shapely.geometry.polygon.Polygon'>\n"
     ]
    },
    {
     "data": {
      "image/png": "[encoded data removed]",
      "text/plain": [
       "<Figure size 432x288 with 1 Axes>"
      ]
     },
     "metadata": {
      "needs_background": "light"
     },
     "output_type": "display_data"
    },
    {
     "name": "stdout",
     "output_type": "stream",
     "text": [
      "intersections aoi S1B_IW_GRDH_1SDV_20200801T030412_20200801T030437_022724_02B20B_0CBB\n",
      "total_fill type is <class 'shapely.geometry.multipolygon.MultiPolygon'>\n"
     ]
    },
    {
     "data": {
      "image/png": "[encoded data removed]",
      "text/plain": [
       "<Figure size 432x288 with 1 Axes>"
      ]
     },
     "metadata": {
      "needs_background": "light"
     },
     "output_type": "display_data"
    },
    {
     "name": "stdout",
     "output_type": "stream",
     "text": [
      "intersections aoi S1A_IW_GRDH_1SDV_20200807T162818_20200807T162843_033803_03EB45_A6DF\n",
      "total_fill type is <class 'shapely.geometry.multipolygon.MultiPolygon'>\n"
     ]
    },
    {
     "data": {
      "image/png": "[encoded data removed]",
      "text/plain": [
       "<Figure size 432x288 with 1 Axes>"
      ]
     },
     "metadata": {
      "needs_background": "light"
     },
     "output_type": "display_data"
    },
    {
     "name": "stdout",
     "output_type": "stream",
     "text": [
      "intersections aoi S1A_IW_GRDH_1SDV_20200807T162843_20200807T162908_033803_03EB45_30A8\n",
      "total_fill type is <class 'shapely.geometry.multipolygon.MultiPolygon'>\n"
     ]
    },
    {
     "data": {
      "image/png": "[encoded data removed]",
      "text/plain": [
       "<Figure size 432x288 with 1 Axes>"
      ]
     },
     "metadata": {
      "needs_background": "light"
     },
     "output_type": "display_data"
    },
    {
     "name": "stdout",
     "output_type": "stream",
     "text": [
      "intersections aoi S1B_IW_GRDH_1SDV_20200809T033631_20200809T033656_022841_02B5B0_6CD7\n",
      "total_fill type is <class 'shapely.geometry.multipolygon.MultiPolygon'>\n"
     ]
    },
    {
     "data": {
      "image/png": "[encoded data removed]",
      "text/plain": [
       "<Figure size 432x288 with 1 Axes>"
      ]
     },
     "metadata": {
      "needs_background": "light"
     },
     "output_type": "display_data"
    },
    {
     "name": "stdout",
     "output_type": "stream",
     "text": [
      "intersections aoi S1B_IW_GRDH_1SDV_20200809T033656_20200809T033721_022841_02B5B0_147A\n",
      "total_fill type is <class 'shapely.geometry.multipolygon.MultiPolygon'>\n"
     ]
    },
    {
     "data": {
      "image/png": "[encoded data removed]",
      "text/plain": [
       "<Figure size 432x288 with 1 Axes>"
      ]
     },
     "metadata": {
      "needs_background": "light"
     },
     "output_type": "display_data"
    },
    {
     "name": "stdout",
     "output_type": "stream",
     "text": [
      "intersections aoi S1A_IW_GRDH_1SDV_20200809T161156_20200809T161221_033832_03EC40_9A21\n",
      "total_fill type is <class 'shapely.geometry.polygon.Polygon'>\n"
     ]
    },
    {
     "data": {
      "image/png": "[encoded data removed]",
      "text/plain": [
       "<Figure size 432x288 with 1 Axes>"
      ]
     },
     "metadata": {
      "needs_background": "light"
     },
     "output_type": "display_data"
    },
    {
     "name": "stdout",
     "output_type": "stream",
     "text": [
      "intersections aoi S1A_IW_GRDH_1SDV_20200809T161221_20200809T161246_033832_03EC40_F635\n",
      "total_fill type is <class 'shapely.geometry.polygon.Polygon'>\n"
     ]
    },
    {
     "data": {
      "image/png": "[encoded data removed]",
      "text/plain": [
       "<Figure size 432x288 with 1 Axes>"
      ]
     },
     "metadata": {
      "needs_background": "light"
     },
     "output_type": "display_data"
    },
    {
     "name": "stdout",
     "output_type": "stream",
     "text": [
      "intersections aoi S1B_IW_GRDH_1SDV_20200811T032006_20200811T032031_022870_02B695_B919\n",
      "total_fill type is <class 'shapely.geometry.polygon.Polygon'>\n"
     ]
    },
    {
     "data": {
      "image/png": "[encoded data removed]",
      "text/plain": [
       "<Figure size 432x288 with 1 Axes>"
      ]
     },
     "metadata": {
      "needs_background": "light"
     },
     "output_type": "display_data"
    },
    {
     "name": "stdout",
     "output_type": "stream",
     "text": [
      "intersections aoi S1B_IW_GRDH_1SDV_20200811T032031_20200811T032056_022870_02B695_52D8\n",
      "total_fill type is <class 'shapely.geometry.polygon.Polygon'>\n"
     ]
    },
    {
     "data": {
      "image/png": "[encoded data removed]",
      "text/plain": [
       "<Figure size 432x288 with 1 Axes>"
      ]
     },
     "metadata": {
      "needs_background": "light"
     },
     "output_type": "display_data"
    },
    {
     "name": "stdout",
     "output_type": "stream",
     "text": [
      "last prod = S1B_IW_GRDH_1SDV_20200811T032031_20200811T032056_022870_02B695_52D8\n",
      "S1B_IW_GRDH_1SDV_20200801T030347_20200801T030412_022724_02B20B_927C\n",
      "S1B_IW_GRDH_1SDV_20200801T030412_20200801T030437_022724_02B20B_0CBB\n",
      "S1A_IW_GRDH_1SDV_20200807T162818_20200807T162843_033803_03EB45_A6DF\n",
      "S1A_IW_GRDH_1SDV_20200807T162843_20200807T162908_033803_03EB45_30A8\n",
      "S1B_IW_GRDH_1SDV_20200809T033631_20200809T033656_022841_02B5B0_6CD7\n",
      "S1B_IW_GRDH_1SDV_20200809T033656_20200809T033721_022841_02B5B0_147A\n",
      "S1A_IW_GRDH_1SDV_20200809T161156_20200809T161221_033832_03EC40_9A21\n",
      "S1A_IW_GRDH_1SDV_20200809T161221_20200809T161246_033832_03EC40_F635\n",
      "S1B_IW_GRDH_1SDV_20200811T032006_20200811T032031_022870_02B695_B919\n",
      "S1B_IW_GRDH_1SDV_20200811T032031_20200811T032056_022870_02B695_52D8\n"
     ]
    },
    {
     "data": {
      "image/png": "[encoded data removed]",
      "text/plain": [
       "<Figure size 432x288 with 1 Axes>"
      ]
     },
     "metadata": {
      "needs_background": "light"
     },
     "output_type": "display_data"
    }
   ],
   "source": [
    "# temp\n",
    "\n",
    "\n",
    "\n",
    "\n",
    "\n",
    "def test_get_min_granule_coverage(products: list, aoi: Polygon) -> list:\n",
    "    \n",
    "    \n",
    "    min_products = []\n",
    "    fill_shapes = []\n",
    "#     fill_shapes.pop(prod.)\n",
    "#     min_products.append(prod)\n",
    "    x,y = test_aoi_poly.exterior.xy\n",
    "    plt.plot(x,y)\n",
    "    \n",
    "    for prod in products:\n",
    "        current_shape = prod.shape\n",
    "        \n",
    "        if aoi.intersects(current_shape):\n",
    "            inter = aoi.intersection(current_shape)\n",
    "            min_products.append(prod)\n",
    "            fill_shapes.append(inter)\n",
    "\n",
    "            print(f\"intersections aoi {prod.name}\")\n",
    "        \n",
    "        total_fill = unary_union(fill_shapes)\n",
    "        print(f\"total_fill type is {type(total_fill)}\")\n",
    "        \n",
    "        \n",
    "        \n",
    "        x,y = test_aoi_poly.exterior.xy\n",
    "        plt.plot(x,y)\n",
    "        \n",
    "        for i in fill_shapes:  \n",
    "            x,y = inter.exterior.xy\n",
    "            plt.fill(x,y)\n",
    "        plt.show()\n",
    "        \n",
    "        \n",
    "        if aoi.equals(total_fill):\n",
    "            print(f\"last prod = {prod.name}\")\n",
    "            return min_products\n",
    "                \n",
    "        \n",
    "    return min_products\n",
    "\n",
    "\n",
    "sorted_products = triage_products(test_aoi_products)\n",
    "\n",
    "\n",
    "for p in sorted_products:\n",
    "    print(p.shape)\n",
    "    \n",
    "print(\"==============\")\n",
    "    \n",
    "test_miny_prod = test_get_min_granule_coverage(sorted_products, test_aoi_poly)\n",
    "        \n",
    "x,y = test_aoi_poly.exterior.xy\n",
    "plt.plot(x,y)\n",
    "\n",
    "for p in test_miny_prod:\n",
    "    x,y = p.shape.exterior.xy\n",
    "    print(p.name)\n",
    "    plt.fill(x,y)\n",
    "\n",
    "\n",
    "#--------------------------------\n",
    "\n",
    "# fs = sorted_products.pop()\n",
    "# fs = fs.shape\n",
    "\n",
    "# inter = fs.intersection(test_aoi_poly)\n",
    "\n",
    "# fill_shape = Polygon\n",
    "# intersects=[]\n",
    "# for p in sorted_products:\n",
    "#     # shape currnt product\n",
    "#     s = p.shape\n",
    "    \n",
    "#     # intersection of current shape and aoi\n",
    "#     i = s.intersection(test_aoi_poly)\n",
    "    \n",
    "#     intersects.append(i)\n",
    "    \n",
    "#     fill_shape = unary_union(intersects)\n",
    "    \n",
    "    \n",
    "\n",
    "    \n",
    "\n",
    "\n",
    "# u = unary_union(intersects)\n",
    "\n",
    "# intersects=[]\n",
    "# fill_shape = Polygon\n",
    "# while not fill_shape.equals(test_aoi_poly):\n",
    "#     x = sorted_products.pop()\n",
    "#     fill_shape = fill_shape.union(x.shape)\n",
    "#     intersects.append(x)\n",
    "#     x,y = fill_shape.exterior.xy\n",
    "#     plt.fill(x,y)\n",
    "#     plt.show\n",
    "    \n",
    "\n",
    "    \n",
    "    \n",
    "    \n",
    "    \n",
    "    \n",
    "\n",
    "\n",
    "\n",
    "# x,y=inter.exterior.xy\n",
    "# plt.fill(x,y)\n",
    "\n",
    "# x,y=u.exterior.xy\n",
    "# plt.fill(x,y)\n",
    "\n",
    "\n",
    "\n",
    "# assert u.equals(test_aoi_poly)\n",
    "\n",
    "# for p in sorted_products:\n",
    "#     print(p.name)\n",
    "\n",
    "    "
   ]
  },
  {
   "cell_type": "code",
   "execution_count": null,
   "metadata": {},
   "outputs": [],
   "source": []
  }
 ],
 "metadata": {
  "kernelspec": {
   "display_name": "Python 3",
   "language": "python",
   "name": "python3"
  },
  "language_info": {
   "codemirror_mode": {
    "name": "ipython",
    "version": 3
   },
   "file_extension": ".py",
   "mimetype": "text/x-python",
   "name": "python",
   "nbconvert_exporter": "python",
   "pygments_lexer": "ipython3",
   "version": "3.8.2"
  }
 },
 "nbformat": 4,
 "nbformat_minor": 4
}
