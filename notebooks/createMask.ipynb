{
 "cells": [
  {
   "cell_type": "code",
   "execution_count": 66,
   "metadata": {},
   "outputs": [],
   "source": [
    "from asf_hyp3 import API\n",
    "import pandas as pd\n",
    "from src.api_functions import hyp3_login, grab_subscription\n",
    "from pprint import pprint\n",
    "from datetime import date, datetime\n",
    "import re\n",
    "\n"
   ]
  },
  {
   "cell_type": "code",
   "execution_count": 67,
   "metadata": {},
   "outputs": [],
   "source": [
    "def products_dataframe() -> pd.DataFrame:\n",
    "    \n",
    "    df = pd.DataFrame(columns=[\"name\", \"id\", \"start\", \"end\"])\n"
   ]
  },
  {
   "cell_type": "code",
   "execution_count": 68,
   "metadata": {},
   "outputs": [],
   "source": [
    "def product_time(product_name):\n",
    "    product_time_regex = re.compile(\n",
    "        r\"S.*1SDV_(?P<start_year>\\d{4})(?P<start_month>\\d{2})(?P<start_day>\\d{2})T(?P<start_hour>\\d{2})(\"\n",
    "        r\"?P<start_minute>\\d{2})(?P<start_second>\\d{2})_(?P<end_year>\\d{4})(?P<end_month>\\d{2})(?P<end_day>\\d{2})T(\"\n",
    "        r\"?P<end_hour>\\d{2})(?P<end_minute>\\d{2})(?P<end_second>\\d{2})_*\")\n",
    "\n",
    "    regex_match = re.match(product_time_regex, product_name)\n",
    "    time_dict = regex_match.groupdict()\n",
    "\n",
    "    # converts all dates/times values in dictionary from int to string\n",
    "    for k, v in time_dict.items():\n",
    "        time_dict[k] = int(v)\n",
    "\n",
    "    start = datetime(time_dict[\"start_year\"], time_dict[\"start_month\"], time_dict[\"start_day\"],\n",
    "                     time_dict[\"start_hour\"], time_dict[\"start_minute\"], time_dict[\"start_second\"])\n",
    "\n",
    "    end = datetime(time_dict[\"end_year\"], time_dict[\"end_month\"], time_dict[\"end_day\"],\n",
    "                   time_dict[\"end_hour\"], time_dict[\"end_minute\"], time_dict[\"end_second\"])\n",
    "\n",
    "\n",
    "    return start, end"
   ]
  },
  {
   "cell_type": "code",
   "execution_count": 69,
   "metadata": {},
   "outputs": [],
   "source": [
    "def product_in_time_bounds(product_name, start, end):\n",
    "    prod_start, prod_end = product_time(product_name)\n",
    "    \n",
    "    return prod_start > start and prod_end < end"
   ]
  },
  {
   "cell_type": "code",
   "execution_count": 70,
   "metadata": {},
   "outputs": [],
   "source": [
    "def get_sub_granules(api, sub_id, start, end):\n",
    "    proudcts = api.get_products(sub_id=sub_id)\n",
    "    products = [product['name'] for product in products if product_in_time_bounds(product['granule'], start, end)]\n",
    "    \n",
    "    return products\n",
    "    \n"
   ]
  },
  {
   "cell_type": "code",
   "execution_count": 73,
   "metadata": {},
   "outputs": [
    {
     "name": "stdout",
     "output_type": "stream",
     "text": [
      "\n",
      " login successful!\n",
      " Welcome jmherning\n",
      "product count is 2\n",
      "['S1A_IW_GRDH_1SDV_20191203T224518_20191203T224543_030190_037348_297D',\n",
      " 'S1A_IW_GRDH_1SDV_20191203T224543_20191203T224608_030190_037348_8C67']\n"
     ]
    }
   ],
   "source": [
    "start = datetime(year=2019,month=12,day=3,hour=0,minute=0,second=0)\n",
    "end   = datetime(year=2019,month=12,day=4,hour=0,minute=0,second=0)\n",
    "\n",
    "api = hyp3_login()\n",
    "# subscription = grab_subscription(api)\n",
    "# sub_id = subscription['id']\n",
    "id = 2810\n",
    "\n",
    "response = api.get_products(sub_id = id)\n",
    "products_list = [product['granule'] for product in response]\n",
    "\n",
    "products = [p for p in products_list if product_in_time_bounds(p, start, end)]\n",
    "\n",
    "# products = get_sub_granules(api, sub_id, start, end)\n",
    "\n",
    "print(f\"product count is {len(products)}\")\n",
    "\n",
    "pprint(products)\n",
    "\n",
    "\n",
    "# subs = api.get_subscriptions()\n",
    "# df = pd.DataFrame(subs)\n",
    "# del df['process_id']\n",
    "# del df['description']\n",
    "# del df['location']\n",
    "# del df['enabled']\n",
    "# del df['group_ids']\n",
    "# print(df)\n",
    "\n"
   ]
  },
  {
   "cell_type": "code",
   "execution_count": null,
   "metadata": {},
   "outputs": [],
   "source": []
  }
 ],
 "metadata": {
  "kernelspec": {
   "display_name": "Python 3",
   "language": "python",
   "name": "python3"
  },
  "language_info": {
   "codemirror_mode": {
    "name": "ipython",
    "version": 3
   },
   "file_extension": ".py",
   "mimetype": "text/x-python",
   "name": "python",
   "nbconvert_exporter": "python",
   "pygments_lexer": "ipython3",
   "version": "3.8.2"
  }
 },
 "nbformat": 4,
 "nbformat_minor": 4
}
