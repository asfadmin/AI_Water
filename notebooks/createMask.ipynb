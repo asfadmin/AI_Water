{
 "cells": [
  {
   "cell_type": "code",
   "execution_count": 11,
   "metadata": {},
   "outputs": [],
   "source": [
    "from asf_hyp3 import API\n",
    "import pandas as pd\n",
    "from src.api_functions import hyp3_login, grab_subscription\n",
    "from pprint import pprint\n",
    "from datetime import date, datetime\n",
    "import re\n",
    "\n",
    "import dataclasses as dc\n",
    "import numpy as np\n",
    "from dataclasses import field, asdict\n",
    "from shapely import wkt\n",
    "from shapely.geometry import Polygon"
   ]
  },
  {
   "cell_type": "code",
   "execution_count": 24,
   "metadata": {},
   "outputs": [],
   "source": [
    "@dc.dataclass()\n",
    "class Product:\n",
    "    name: str\n",
    "    granule: str = None\n",
    "    url: str = None\n",
    "    shape: Polygon = None\n",
    "    start: datetime = None\n",
    "    end: datetime = None\n",
    "        \n",
    "    def __post_init__(self):\n",
    "        self.product_time_regex = re.compile(\n",
    "                r\"S.*1SDV_(?P<start_year>\\d{4})(?P<start_month>\\d{2})(?P<start_day>\\d{2})T(?P<start_hour>\\d{2})(\"\n",
    "                r\"?P<start_minute>\\d{2})(?P<start_second>\\d{2})_(?P<end_year>\\d{4})(?P<end_month>\\d{2})(?P<end_day>\\d{2})T(\"\n",
    "                r\"?P<end_hour>\\d{2})(?P<end_minute>\\d{2})(?P<end_second>\\d{2})_*\")\n",
    "#         self.start = make_start(name)\n",
    "#         self.end = make_end(name)\n",
    "        self.start = self.make_start(self.granule)\n",
    "        self.end = self.make_end(self.granule)\n",
    "        \n",
    "        \n",
    "\n",
    "        \n",
    "    def make_start(self,product_name) -> datetime:\n",
    "        \n",
    "        regex_match = re.match(self.product_time_regex, product_name)\n",
    "        time_dict = regex_match.groupdict()\n",
    "        for k, v in time_dict.items():\n",
    "            time_dict[k] = int(v)\n",
    "\n",
    "        return datetime(time_dict[\"start_year\"], time_dict[\"start_month\"], time_dict[\"start_day\"],\n",
    "                        time_dict[\"start_hour\"], time_dict[\"start_minute\"], time_dict[\"start_second\"])\n",
    "\n",
    "\n",
    "\n",
    "    def make_end(self, product_name) -> datetime:\n",
    "\n",
    "        regex_match = re.match(self.product_time_regex, product_name)\n",
    "        time_dict = regex_match.groupdict()\n",
    "        for k, v in time_dict.items():\n",
    "            time_dict[k] = int(v)\n",
    "\n",
    "        return datetime(time_dict[\"end_year\"], time_dict[\"end_month\"], time_dict[\"end_day\"],\n",
    "                        time_dict[\"end_hour\"], time_dict[\"end_minute\"], time_dict[\"end_second\"])\n",
    "    \n",
    "    \n",
    "    def to_json(self):\n",
    "        metadata = asdict(self)\n",
    "        metadata['start'] = self.start.isoformat()\n",
    "        metadata['end'] = self.end.isoformat()\n",
    "        metadata['shape'] = str(self.shape)\n",
    "        \n",
    "#         for key in list(metadata):\n",
    "#             if key is datetime:\n",
    "#                 metadata[key] = metadata[key].isoformat()\n",
    "#                 print(f\"TEST: {key}= {metadata[key]}\")\n",
    "        return json.dumps(metadata)\n",
    "        \n",
    "        \n",
    "    "
   ]
  },
  {
   "cell_type": "code",
   "execution_count": 3,
   "metadata": {},
   "outputs": [],
   "source": [
    "def products_dataframe() -> pd.DataFrame:\n",
    "    \n",
    "    df = pd.DataFrame(columns=[\"name\", \"id\", \"start\", \"end\"])\n"
   ]
  },
  {
   "cell_type": "code",
   "execution_count": 18,
   "metadata": {},
   "outputs": [],
   "source": [
    "def product_time(product_name):\n",
    "    product_time_regex = re.compile(\n",
    "        r\"S.*1SDV_(?P<start_year>\\d{4})(?P<start_month>\\d{2})(?P<start_day>\\d{2})T(?P<start_hour>\\d{2})(\"\n",
    "        r\"?P<start_minute>\\d{2})(?P<start_second>\\d{2})_(?P<end_year>\\d{4})(?P<end_month>\\d{2})(?P<end_day>\\d{2})T(\"\n",
    "        r\"?P<end_hour>\\d{2})(?P<end_minute>\\d{2})(?P<end_second>\\d{2})_*\")\n",
    "\n",
    "    regex_match = re.match(product_time_regex, product_name)\n",
    "    time_dict = regex_match.groupdict()\n",
    "\n",
    "    # converts all dates/times values in dictionary from int to string\n",
    "    for k, v in time_dict.items():\n",
    "        time_dict[k] = int(v)\n",
    "\n",
    "    start = datetime(time_dict[\"start_year\"], time_dict[\"start_month\"], time_dict[\"start_day\"],\n",
    "                     time_dict[\"start_hour\"], time_dict[\"start_minute\"], time_dict[\"start_second\"])\n",
    "\n",
    "    end = datetime(time_dict[\"end_year\"], time_dict[\"end_month\"], time_dict[\"end_day\"],\n",
    "                   time_dict[\"end_hour\"], time_dict[\"end_minute\"], time_dict[\"end_second\"])\n",
    "\n",
    "\n",
    "    return start, end"
   ]
  },
  {
   "cell_type": "code",
   "execution_count": 5,
   "metadata": {},
   "outputs": [],
   "source": [
    "def product_in_time_bounds(product_name, start, end):\n",
    "    prod_start, prod_end = product_time(product_name)\n",
    "    \n",
    "    return prod_start > start and prod_end < end"
   ]
  },
  {
   "cell_type": "code",
   "execution_count": 22,
   "metadata": {},
   "outputs": [],
   "source": [
    "def get_sub_products(api, sub_id, start, end):\n",
    "    \n",
    "    response = api.get_products(sub_id=sub_id)\n",
    "    \n",
    "    products = []\n",
    "    for product in response:\n",
    "        if product_in_time_bounds(product['granule'], start, end):\n",
    "            products.append(Product(product['name'],\n",
    "                                    product['granule'],\n",
    "                                    product['url']\n",
    "                                   )\n",
    "                           )\n",
    "    return products\n",
    "    \n"
   ]
  },
  {
   "cell_type": "code",
   "execution_count": 25,
   "metadata": {},
   "outputs": [
    {
     "name": "stdout",
     "output_type": "stream",
     "text": [
      "\n",
      " login successful!\n",
      " Welcome jmherning\n",
      "[Product(name='S1A_IW_20191203T224518_DVP_RTC10_G_gpuned_54B9.zip', granule='S1A_IW_GRDH_1SDV_20191203T224518_20191203T224543_030190_037348_297D', url='https://hyp3-download.asf.alaska.edu/asf/data/S1A_IW_20191203T224518_DVP_RTC10_G_gpuned_54B9.zip', shape=None, start=datetime.datetime(2019, 12, 3, 22, 45, 18), end=datetime.datetime(2019, 12, 3, 22, 45, 43)),\n",
      " Product(name='S1A_IW_20191203T224543_DVP_RTC10_G_gpuned_3A53.zip', granule='S1A_IW_GRDH_1SDV_20191203T224543_20191203T224608_030190_037348_8C67', url='https://hyp3-download.asf.alaska.edu/asf/data/S1A_IW_20191203T224543_DVP_RTC10_G_gpuned_3A53.zip', shape=None, start=datetime.datetime(2019, 12, 3, 22, 45, 43), end=datetime.datetime(2019, 12, 3, 22, 46, 8))]\n"
     ]
    }
   ],
   "source": [
    "start = datetime(year=2019,month=12,day=3,hour=0,minute=0,second=0)\n",
    "end   = datetime(year=2019,month=12,day=4,hour=0,minute=0,second=0)\n",
    "\n",
    "api = hyp3_login()\n",
    "# subscription = grab_subscription(api)\n",
    "# sub_id = subscription['id']\n",
    "id = 2810\n",
    "\n",
    "\n",
    "products = get_sub_products(api, id, start, end)\n",
    "pprint(products)\n",
    "\n",
    "# response = api.get_products(sub_id = id)\n",
    "# pprint(response)\n",
    "# products_list = [product['granule'] for product in response]\n",
    "\n",
    "# products = [p for p in products_list if product_in_time_bounds(p, start, end)]\n",
    "\n",
    "# # products = get_sub_granules(api, sub_id, start, end)\n",
    "\n",
    "# print(f\"product count is {len(products)}\")\n",
    "\n",
    "\n",
    "\n",
    "\n"
   ]
  },
  {
   "cell_type": "code",
   "execution_count": null,
   "metadata": {},
   "outputs": [],
   "source": []
  }
 ],
 "metadata": {
  "kernelspec": {
   "display_name": "Python 3",
   "language": "python",
   "name": "python3"
  },
  "language_info": {
   "codemirror_mode": {
    "name": "ipython",
    "version": 3
   },
   "file_extension": ".py",
   "mimetype": "text/x-python",
   "name": "python",
   "nbconvert_exporter": "python",
   "pygments_lexer": "ipython3",
   "version": "3.8.2"
  }
 },
 "nbformat": 4,
 "nbformat_minor": 4
}
